{
 "cells": [
  {
   "cell_type": "code",
   "execution_count": 1,
   "metadata": {
    "colab": {
     "base_uri": "https://localhost:8080/"
    },
    "executionInfo": {
     "elapsed": 98235,
     "status": "ok",
     "timestamp": 1750716291045,
     "user": {
      "displayName": "Mason Pierciey",
      "userId": "06475754975641260662"
     },
     "user_tz": 240
    },
    "id": "a5rRUMYtz33e",
    "outputId": "9dcaa0b5-0e02-442e-b23d-cb1257627765"
   },
   "outputs": [
    {
     "name": "stdout",
     "output_type": "stream",
     "text": [
      "Requirement already satisfied: pytorch-pretrained-biggan in c:\\users\\mason\\anaconda3\\lib\\site-packages (0.1.1)\n",
      "Requirement already satisfied: torch>=0.4.1 in c:\\users\\mason\\anaconda3\\lib\\site-packages (from pytorch-pretrained-biggan) (2.7.1)\n",
      "Requirement already satisfied: tqdm in c:\\users\\mason\\anaconda3\\lib\\site-packages (from pytorch-pretrained-biggan) (4.62.3)\n",
      "Requirement already satisfied: requests in c:\\users\\mason\\anaconda3\\lib\\site-packages (from pytorch-pretrained-biggan) (2.26.0)\n",
      "Requirement already satisfied: numpy in c:\\users\\mason\\anaconda3\\lib\\site-packages (from pytorch-pretrained-biggan) (1.20.3)\n",
      "Requirement already satisfied: boto3 in c:\\users\\mason\\anaconda3\\lib\\site-packages (from pytorch-pretrained-biggan) (1.38.42)\n",
      "Requirement already satisfied: jinja2 in c:\\users\\mason\\anaconda3\\lib\\site-packages (from torch>=0.4.1->pytorch-pretrained-biggan) (2.11.3)\n",
      "Requirement already satisfied: filelock in c:\\users\\mason\\anaconda3\\lib\\site-packages (from torch>=0.4.1->pytorch-pretrained-biggan) (3.3.1)\n",
      "Requirement already satisfied: fsspec in c:\\users\\mason\\anaconda3\\lib\\site-packages (from torch>=0.4.1->pytorch-pretrained-biggan) (2025.5.1)\n",
      "Requirement already satisfied: networkx in c:\\users\\mason\\anaconda3\\lib\\site-packages (from torch>=0.4.1->pytorch-pretrained-biggan) (2.6.3)\n",
      "Requirement already satisfied: sympy>=1.13.3 in c:\\users\\mason\\anaconda3\\lib\\site-packages (from torch>=0.4.1->pytorch-pretrained-biggan) (1.14.0)\n",
      "Requirement already satisfied: typing-extensions>=4.10.0 in c:\\users\\mason\\anaconda3\\lib\\site-packages (from torch>=0.4.1->pytorch-pretrained-biggan) (4.14.0)\n",
      "Requirement already satisfied: mpmath<1.4,>=1.1.0 in c:\\users\\mason\\anaconda3\\lib\\site-packages (from sympy>=1.13.3->torch>=0.4.1->pytorch-pretrained-biggan) (1.2.1)\n",
      "Requirement already satisfied: s3transfer<0.14.0,>=0.13.0 in c:\\users\\mason\\anaconda3\\lib\\site-packages (from boto3->pytorch-pretrained-biggan) (0.13.0)\n",
      "Requirement already satisfied: botocore<1.39.0,>=1.38.42 in c:\\users\\mason\\anaconda3\\lib\\site-packages (from boto3->pytorch-pretrained-biggan) (1.38.42)\n",
      "Requirement already satisfied: jmespath<2.0.0,>=0.7.1 in c:\\users\\mason\\anaconda3\\lib\\site-packages (from boto3->pytorch-pretrained-biggan) (1.0.1)\n",
      "Requirement already satisfied: python-dateutil<3.0.0,>=2.1 in c:\\users\\mason\\anaconda3\\lib\\site-packages (from botocore<1.39.0,>=1.38.42->boto3->pytorch-pretrained-biggan) (2.8.2)\n",
      "Requirement already satisfied: urllib3<1.27,>=1.25.4 in c:\\users\\mason\\anaconda3\\lib\\site-packages (from botocore<1.39.0,>=1.38.42->boto3->pytorch-pretrained-biggan) (1.26.7)\n",
      "Requirement already satisfied: six>=1.5 in c:\\users\\mason\\anaconda3\\lib\\site-packages (from python-dateutil<3.0.0,>=2.1->botocore<1.39.0,>=1.38.42->boto3->pytorch-pretrained-biggan) (1.16.0)\n",
      "Requirement already satisfied: MarkupSafe>=0.23 in c:\\users\\mason\\anaconda3\\lib\\site-packages (from jinja2->torch>=0.4.1->pytorch-pretrained-biggan) (1.1.1)\n",
      "Requirement already satisfied: charset-normalizer~=2.0.0 in c:\\users\\mason\\anaconda3\\lib\\site-packages (from requests->pytorch-pretrained-biggan) (2.0.4)\n",
      "Requirement already satisfied: idna<4,>=2.5 in c:\\users\\mason\\anaconda3\\lib\\site-packages (from requests->pytorch-pretrained-biggan) (3.2)\n",
      "Requirement already satisfied: certifi>=2017.4.17 in c:\\users\\mason\\anaconda3\\lib\\site-packages (from requests->pytorch-pretrained-biggan) (2025.4.26)\n",
      "Requirement already satisfied: colorama in c:\\users\\mason\\anaconda3\\lib\\site-packages (from tqdm->pytorch-pretrained-biggan) (0.4.4)\n",
      "Note: you may need to restart the kernel to use updated packages.\n"
     ]
    }
   ],
   "source": [
    "pip install pytorch-pretrained-biggan"
   ]
  },
  {
   "cell_type": "code",
   "execution_count": 2,
   "metadata": {
    "executionInfo": {
     "elapsed": 4896,
     "status": "ok",
     "timestamp": 1750716368283,
     "user": {
      "displayName": "Mason Pierciey",
      "userId": "06475754975641260662"
     },
     "user_tz": 240
    },
    "id": "mUISNiGE0pvU"
   },
   "outputs": [],
   "source": [
    "import torch\n",
    "from pytorch_pretrained_biggan import (BigGAN, one_hot_from_names, truncated_noise_sample,\n",
    "                                       save_as_images, display_in_terminal)"
   ]
  },
  {
   "cell_type": "code",
   "execution_count": 3,
   "metadata": {
    "executionInfo": {
     "elapsed": 4,
     "status": "ok",
     "timestamp": 1750716661384,
     "user": {
      "displayName": "Mason Pierciey",
      "userId": "06475754975641260662"
     },
     "user_tz": 240
    },
    "id": "A_7QJFSl0p4D"
   },
   "outputs": [],
   "source": [
    "import logging\n",
    "logging.basicConfig(level=logging.INFO)"
   ]
  },
  {
   "cell_type": "code",
   "execution_count": 4,
   "metadata": {
    "colab": {
     "base_uri": "https://localhost:8080/"
    },
    "executionInfo": {
     "elapsed": 18792,
     "status": "ok",
     "timestamp": 1750716681862,
     "user": {
      "displayName": "Mason Pierciey",
      "userId": "06475754975641260662"
     },
     "user_tz": 240
    },
    "id": "FIs7EbZi0p__",
    "outputId": "20193aa9-bcc8-410f-9e63-3022cae3a1df"
   },
   "outputs": [
    {
     "name": "stderr",
     "output_type": "stream",
     "text": [
      "INFO:pytorch_pretrained_biggan.model:loading model biggan-deep-256 from cache at C:\\Users\\Mason\\.pytorch_pretrained_biggan\\e7d036ee69a83e83503c46902552573b27d856eaf6b8b84252a63a715dce7501.aec5caf3e5c5252b8857d6bb8adefa8d1d6092a8ba6c9aaed1e6678f8a46be43\n",
      "INFO:pytorch_pretrained_biggan.model:Model config {\n",
      "  \"attention_layer_position\": 8,\n",
      "  \"channel_width\": 128,\n",
      "  \"class_embed_dim\": 128,\n",
      "  \"eps\": 0.0001,\n",
      "  \"layers\": [\n",
      "    [\n",
      "      false,\n",
      "      16,\n",
      "      16\n",
      "    ],\n",
      "    [\n",
      "      true,\n",
      "      16,\n",
      "      16\n",
      "    ],\n",
      "    [\n",
      "      false,\n",
      "      16,\n",
      "      16\n",
      "    ],\n",
      "    [\n",
      "      true,\n",
      "      16,\n",
      "      8\n",
      "    ],\n",
      "    [\n",
      "      false,\n",
      "      8,\n",
      "      8\n",
      "    ],\n",
      "    [\n",
      "      true,\n",
      "      8,\n",
      "      8\n",
      "    ],\n",
      "    [\n",
      "      false,\n",
      "      8,\n",
      "      8\n",
      "    ],\n",
      "    [\n",
      "      true,\n",
      "      8,\n",
      "      4\n",
      "    ],\n",
      "    [\n",
      "      false,\n",
      "      4,\n",
      "      4\n",
      "    ],\n",
      "    [\n",
      "      true,\n",
      "      4,\n",
      "      2\n",
      "    ],\n",
      "    [\n",
      "      false,\n",
      "      2,\n",
      "      2\n",
      "    ],\n",
      "    [\n",
      "      true,\n",
      "      2,\n",
      "      1\n",
      "    ]\n",
      "  ],\n",
      "  \"n_stats\": 51,\n",
      "  \"num_classes\": 1000,\n",
      "  \"output_dim\": 256,\n",
      "  \"z_dim\": 128\n",
      "}\n",
      "\n"
     ]
    }
   ],
   "source": [
    "model = BigGAN.from_pretrained('biggan-deep-256')"
   ]
  },
  {
   "cell_type": "code",
   "execution_count": 5,
   "metadata": {
    "colab": {
     "base_uri": "https://localhost:8080/"
    },
    "executionInfo": {
     "elapsed": 904,
     "status": "ok",
     "timestamp": 1750716805697,
     "user": {
      "displayName": "Mason Pierciey",
      "userId": "06475754975641260662"
     },
     "user_tz": 240
    },
    "id": "cs70ylnn2ipB",
    "outputId": "baa5c43f-df1c-4be0-edb0-ef451ac746a0"
   },
   "outputs": [
    {
     "name": "stderr",
     "output_type": "stream",
     "text": [
      "[nltk_data] Downloading package wordnet to\n",
      "[nltk_data]     C:\\Users\\Mason\\AppData\\Roaming\\nltk_data...\n",
      "[nltk_data]   Package wordnet is already up-to-date!\n"
     ]
    },
    {
     "data": {
      "text/plain": [
       "True"
      ]
     },
     "execution_count": 5,
     "metadata": {},
     "output_type": "execute_result"
    }
   ],
   "source": [
    "import nltk\n",
    "nltk.download('wordnet')"
   ]
  },
  {
   "cell_type": "code",
   "execution_count": 44,
   "metadata": {
    "executionInfo": {
     "elapsed": 9,
     "status": "ok",
     "timestamp": 1750717063246,
     "user": {
      "displayName": "Mason Pierciey",
      "userId": "06475754975641260662"
     },
     "user_tz": 240
    },
    "id": "gc8GWWyA1JKY"
   },
   "outputs": [],
   "source": [
    "truncation = 1\n",
    "class_vector = one_hot_from_names(['soap bubble', 'coffee', 'mushroom'], batch_size=3)\n",
    "noise_vector = truncated_noise_sample(truncation=truncation, batch_size=3)"
   ]
  },
  {
   "cell_type": "code",
   "execution_count": 45,
   "metadata": {
    "executionInfo": {
     "elapsed": 5,
     "status": "ok",
     "timestamp": 1750717064990,
     "user": {
      "displayName": "Mason Pierciey",
      "userId": "06475754975641260662"
     },
     "user_tz": 240
    },
    "id": "U02HySqA1JNd"
   },
   "outputs": [],
   "source": [
    "noise_vector = torch.from_numpy(noise_vector)\n",
    "class_vector = torch.from_numpy(class_vector)"
   ]
  },
  {
   "cell_type": "code",
   "execution_count": 46,
   "metadata": {
    "executionInfo": {
     "elapsed": 7375,
     "status": "ok",
     "timestamp": 1750717073830,
     "user": {
      "displayName": "Mason Pierciey",
      "userId": "06475754975641260662"
     },
     "user_tz": 240
    },
    "id": "ikbUXwjr1JdF"
   },
   "outputs": [],
   "source": [
    "with torch.no_grad():\n",
    "    output = model(noise_vector, class_vector, truncation)"
   ]
  },
  {
   "cell_type": "code",
   "execution_count": 47,
   "metadata": {
    "executionInfo": {
     "elapsed": 7237,
     "status": "ok",
     "timestamp": 1750718410000,
     "user": {
      "displayName": "Mason Pierciey",
      "userId": "06475754975641260662"
     },
     "user_tz": 240
    },
    "id": "ZP8S-wkV8jsd"
   },
   "outputs": [],
   "source": [
    "from torchvision.utils import save_image"
   ]
  },
  {
   "cell_type": "code",
   "execution_count": 48,
   "metadata": {
    "executionInfo": {
     "elapsed": 45,
     "status": "ok",
     "timestamp": 1750718624704,
     "user": {
      "displayName": "Mason Pierciey",
      "userId": "06475754975641260662"
     },
     "user_tz": 240
    },
    "id": "0do2edzU3tyC"
   },
   "outputs": [],
   "source": [
    "save_image(output, \"generated_batch_2.png\", nrow=3)"
   ]
  },
  {
   "cell_type": "code",
   "execution_count": null,
   "metadata": {},
   "outputs": [],
   "source": []
  }
 ],
 "metadata": {
  "colab": {
   "authorship_tag": "ABX9TyOgxIjWVCxE83B693atDS2a",
   "provenance": []
  },
  "kernelspec": {
   "display_name": "Python 3 (ipykernel)",
   "language": "python",
   "name": "python3"
  },
  "language_info": {
   "codemirror_mode": {
    "name": "ipython",
    "version": 3
   },
   "file_extension": ".py",
   "mimetype": "text/x-python",
   "name": "python",
   "nbconvert_exporter": "python",
   "pygments_lexer": "ipython3",
   "version": "3.9.7"
  }
 },
 "nbformat": 4,
 "nbformat_minor": 1
}
